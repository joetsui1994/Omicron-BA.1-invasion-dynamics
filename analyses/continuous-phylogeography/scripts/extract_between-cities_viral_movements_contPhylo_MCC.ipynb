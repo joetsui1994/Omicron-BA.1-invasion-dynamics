{
 "cells": [
  {
   "attachments": {},
   "cell_type": "markdown",
   "id": "animal-floor",
   "metadata": {},
   "source": [
    "### Load in modules"
   ]
  },
  {
   "cell_type": "code",
   "execution_count": 1,
   "id": "answering-series",
   "metadata": {},
   "outputs": [],
   "source": [
    "import geopandas as gpd\n",
    "import pandas as pd\n",
    "import math\n",
    "from shapely.geometry import Point\n",
    "import datetime as dt\n",
    "import matplotlib.pyplot as plt\n"
   ]
  },
  {
   "attachments": {},
   "cell_type": "markdown",
   "id": "nuclear-effect",
   "metadata": {},
   "source": [
    "### Load in shapefile"
   ]
  },
  {
   "cell_type": "code",
   "execution_count": 2,
   "id": "altered-expansion",
   "metadata": {},
   "outputs": [],
   "source": [
    "uk_map = gpd.read_file('./data/shp/shapefile_out.shp')\n"
   ]
  },
  {
   "cell_type": "code",
   "execution_count": 3,
   "id": "built-istanbul",
   "metadata": {},
   "outputs": [],
   "source": [
    "## extract polygons corresponding to cities of interest\n",
    "## merge where appropriate\n",
    "leeds_map = uk_map[uk_map.geo_name == 'Leeds'].copy()\n",
    "birmingham_map = uk_map[uk_map.geo_name == 'Birmingham'].copy()\n",
    "newcastle_map = uk_map[uk_map.geo_name == 'Newcastle upon Tyne'].copy()\n",
    "leicester_map = uk_map[uk_map.geo_name == 'Leicester'].copy()\n",
    "nottingham_map = uk_map[uk_map.geo_name == 'Nottingham'].copy()\n"
   ]
  },
  {
   "cell_type": "code",
   "execution_count": 4,
   "id": "aquatic-alexandria",
   "metadata": {},
   "outputs": [],
   "source": [
    "manchester_ltlas = ['E06000006', 'E06000007', 'E06000008', 'E06000009',\n",
    "                    'E07000037', 'E07000117', 'E07000118', 'E07000119',\n",
    "                    'E07000120', 'E07000121', 'E07000122', 'E07000123',\n",
    "                    'E07000124', 'E07000125', 'E07000126', 'E07000127',\n",
    "                    'E07000128', 'E07000163', 'E08000001', 'E08000002',\n",
    "                    'E08000003', 'E08000004', 'E08000005', 'E08000006',\n",
    "                    'E08000007', 'E08000008', 'E08000009', 'E08000010',\n",
    "                    'E08000011', 'E08000012', 'E08000013', 'E08000014',\n",
    "                    'E08000015', 'E08000032', 'E08000033']\n",
    "manchester_map = uk_map[uk_map.geo_code.isin(manchester_ltlas)].dissolve().copy()\n"
   ]
  },
  {
   "cell_type": "code",
   "execution_count": 7,
   "id": "forbidden-authority",
   "metadata": {},
   "outputs": [
    {
     "name": "stderr",
     "output_type": "stream",
     "text": [
      "/Library/Frameworks/Python.framework/Versions/3.7/lib/python3.7/site-packages/ipykernel_launcher.py:1: UserWarning: Geometry is in a geographic CRS. Results from 'buffer' are likely incorrect. Use 'GeoSeries.to_crs()' to re-project geometries to a projected CRS before this operation.\n",
      "\n",
      "  \"\"\"Entry point for launching an IPython kernel.\n",
      "/Library/Frameworks/Python.framework/Versions/3.7/lib/python3.7/site-packages/ipykernel_launcher.py:1: UserWarning: Geometry is in a geographic CRS. Results from 'buffer' are likely incorrect. Use 'GeoSeries.to_crs()' to re-project geometries to a projected CRS before this operation.\n",
      "\n",
      "  \"\"\"Entry point for launching an IPython kernel.\n"
     ]
    },
    {
     "data": {
      "text/plain": [
       "0    POLYGON ((-0.51029 51.46751, -0.51028 51.46753...\n",
       "dtype: geometry"
      ]
     },
     "execution_count": 7,
     "metadata": {},
     "output_type": "execute_result"
    }
   ],
   "source": [
    "london_map = uk_map[uk_map.geo_code.str.startswith('E09')].dissolve().buffer(0.001).buffer(-0.001).copy()\n",
    "london_map\n"
   ]
  },
  {
   "attachments": {},
   "cell_type": "markdown",
   "id": "reduced-contrast",
   "metadata": {},
   "source": [
    "### Load in mcc_geo"
   ]
  },
  {
   "cell_type": "code",
   "execution_count": 8,
   "id": "biblical-oxygen",
   "metadata": {},
   "outputs": [],
   "source": [
    "mcc_geo = pd.read_csv('./data/mcc_geo_combined.csv', sep=',')\n"
   ]
  },
  {
   "cell_type": "code",
   "execution_count": 9,
   "id": "intelligent-midnight",
   "metadata": {},
   "outputs": [],
   "source": [
    "## map nodes to cities of interest\n",
    "mcc_geo['head_birmingham'] = mcc_geo.apply(lambda row: birmingham_map.contains(Point(\n",
    "    row.head_long_4326, row.head_lat_4326)), axis=1)\n",
    "mcc_geo['tail_birmingham'] = mcc_geo.apply(lambda row: birmingham_map.contains(Point(\n",
    "    row.tail_long_4326, row.tail_lat_4326)), axis=1)\n",
    "mcc_geo['head_leeds'] = mcc_geo.apply(lambda row: leeds_map.contains(Point(\n",
    "    row.head_long_4326, row.head_lat_4326)), axis=1)\n",
    "mcc_geo['tail_leeds'] = mcc_geo.apply(lambda row: leeds_map.contains(Point(\n",
    "    row.tail_long_4326, row.tail_lat_4326)), axis=1)\n",
    "mcc_geo['head_newcastle'] = mcc_geo.apply(lambda row: newcastle_map.contains(Point(\n",
    "    row.head_long_4326, row.head_lat_4326)), axis=1)\n",
    "mcc_geo['tail_newcastle'] = mcc_geo.apply(lambda row: newcastle_map.contains(Point(\n",
    "    row.tail_long_4326, row.tail_lat_4326)), axis=1)\n",
    "mcc_geo['head_leicester'] = mcc_geo.apply(lambda row: leicester_map.contains(Point(\n",
    "    row.head_long_4326, row.head_lat_4326)), axis=1)\n",
    "mcc_geo['tail_leicester'] = mcc_geo.apply(lambda row: leicester_map.contains(Point(\n",
    "    row.tail_long_4326, row.tail_lat_4326)), axis=1)\n",
    "mcc_geo['head_nottingham'] = mcc_geo.apply(lambda row: nottingham_map.contains(Point(\n",
    "    row.head_long_4326, row.head_lat_4326)), axis=1)\n",
    "mcc_geo['tail_nottingham'] = mcc_geo.apply(lambda row: nottingham_map.contains(Point(\n",
    "    row.tail_long_4326, row.tail_lat_4326)), axis=1)\n",
    "mcc_geo['head_manchester'] = mcc_geo.apply(lambda row: manchester_map.contains(Point(\n",
    "    row.head_long_4326, row.head_lat_4326)), axis=1)\n",
    "mcc_geo['tail_manchester'] = mcc_geo.apply(lambda row: manchester_map.contains(Point(\n",
    "    row.tail_long_4326, row.tail_lat_4326)), axis=1)\n",
    "mcc_geo['head_london'] = mcc_geo.apply(lambda row: london_map.contains(Point(\n",
    "    row.head_long_4326, row.head_lat_4326)), axis=1)\n",
    "mcc_geo['tail_london'] = mcc_geo.apply(lambda row: london_map.contains(Point(\n",
    "    row.tail_long_4326, row.tail_lat_4326)), axis=1)\n"
   ]
  },
  {
   "cell_type": "code",
   "execution_count": null,
   "id": "boxed-biology",
   "metadata": {},
   "outputs": [],
   "source": []
  }
 ],
 "metadata": {
  "kernelspec": {
   "display_name": "Python 3",
   "language": "python",
   "name": "python3"
  },
  "language_info": {
   "codemirror_mode": {
    "name": "ipython",
    "version": 3
   },
   "file_extension": ".py",
   "mimetype": "text/x-python",
   "name": "python",
   "nbconvert_exporter": "python",
   "pygments_lexer": "ipython3",
   "version": "3.7.9"
  }
 },
 "nbformat": 4,
 "nbformat_minor": 5
}
